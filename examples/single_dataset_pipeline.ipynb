{
 "cells": [
  {
   "cell_type": "code",
   "execution_count": null,
   "id": "bac5e0cf-c968-40db-a5e1-f9c8af1479a5",
   "metadata": {},
   "outputs": [],
   "source": [
    "# Copyright (c) 2025 Chase Holdener\n",
    "# Licensed under the MIT License. See LICENSE file for details."
   ]
  },
  {
   "cell_type": "markdown",
   "id": "b0d2b2b6-d147-48de-bd4e-040967f47299",
   "metadata": {},
   "source": [
    "## Import Packages"
   ]
  },
  {
   "cell_type": "code",
   "execution_count": null,
   "id": "6e9af7d0-35d7-4984-9e6a-b83670bbc398",
   "metadata": {},
   "outputs": [],
   "source": [
    "### Import External Required Packages\n",
    "import anndata as ad\n",
    "import numpy as np\n",
    "import pandas as pd\n",
    "import scanpy as sc\n",
    "import matplotlib.pyplot as plt\n",
    "import sys\n",
    "\n",
    "### Import Smoothie Functions\n",
    "sys.path.append('/path/to/Smoothie/src/')# Make this the path to the Smoothie src directory!\n",
    "from gaussian_smoothing import *\n",
    "from spatial_correlation import *\n",
    "from network_analysis import *\n",
    "from plotting import *"
   ]
  },
  {
   "attachments": {},
   "cell_type": "markdown",
   "id": "729c13e4-5d90-48a0-bda6-a2b1a481b8a5",
   "metadata": {},
   "source": [
    "## Load AnnData"
   ]
  },
  {
   "cell_type": "code",
   "execution_count": null,
   "id": "d2c6d7b9-7e4e-481e-a66b-f07ca65b329e",
   "metadata": {},
   "outputs": [],
   "source": [
    "## Load in anndata structure (raw count matrix)\n",
    "adata = ad.read_h5ad(\"/location/of/adata.h5ad\")\n",
    "\n",
    "## Or, build your own anndata stucture with a sparse count matrix, spatial coordinates 2D arr, and gene names 1D arr!\n",
    "##   Cells/spots are rows, genes are columns (info:  https://anndata.dynverse.org/reference/AnnData.html)\n",
    "# adata = ad.AnnData(my_csr_sparse_count_matrix) # N rows (spots), G columns (genes)\n",
    "# adata.obsm['spatial'] = my_spatial_coordinates_2Darr # N rows (spots), 2 columns (x,y values)\n",
    "# adata.var_names = my_gene_names_1Darr # length G arr (gene names for each column)"
   ]
  },
  {
   "cell_type": "markdown",
   "id": "b8e98116-aa37-416b-986b-f3797f6e88a6",
   "metadata": {},
   "source": [
    "## Quality Control + Preprocessing"
   ]
  },
  {
   "cell_type": "markdown",
   "id": "9e1ae00c-71dc-4465-b69b-23c41ccb0dfc",
   "metadata": {},
   "source": [
    "#### QC filtering depends on the spatial transcriptomics platform and its spatial resolution\n",
    "\n",
    "#### Slide-seq (10 micron resolution spots): \n",
    "- SPOT_UMI_THRESHOLD [10-200]\n",
    "- GENE_UMI_THRESHOLD [100-500]\n",
    "\n",
    "#### Binned Stereo-seq (20-50 micron resolution spots):\n",
    "- SPOT_UMI_THRESHOLD [50-500]\n",
    "- GENE_UMI_THRESHOLD [100-500]\n",
    "\n",
    "#### Unbinned Stereo-seq (0.5 micron resolution spots):\n",
    "- SPOT_UMI_THRESHOLD [1-2] **\n",
    "- GENE_UMI_THRESHOLD [100-500]"
   ]
  },
  {
   "cell_type": "code",
   "execution_count": null,
   "id": "4585156a-d16d-4faf-a357-22df6a498739",
   "metadata": {},
   "outputs": [],
   "source": [
    "# Keep SPOTS that have at least SPOT_UMI_THRESHOLD counts across all genes\n",
    "SPOT_UMI_THRESHOLD = 50\n",
    "adata.obs['total_raw_spotcounts'] = np.sum(adata.X, axis = 1)\n",
    "adata = adata[adata.obs['total_raw_spotcounts'] >= SPOT_UMI_THRESHOLD, :]\n",
    "\n",
    "# Keep GENES that have at least GENE_UMI_THRESHOLD counts tissue-wide\n",
    "#  (Aim low here! Smoothie does gene feature selection later.)\n",
    "GENE_UMI_THRESHOLD = 100\n",
    "adata.var['total_raw_counts'] = np.array(np.sum(adata.X, axis=0))[0]\n",
    "adata = adata[:, adata.var['total_raw_counts'] >= GENE_UMI_THRESHOLD]\n",
    "\n",
    "# Other QC filters may be included"
   ]
  },
  {
   "cell_type": "markdown",
   "id": "09027b89-d56c-4165-8236-0a85e7df4c69",
   "metadata": {},
   "source": [
    "## Normalization"
   ]
  },
  {
   "cell_type": "markdown",
   "id": "6d198aed-6356-4538-8f1d-fd3edeef5cfb",
   "metadata": {},
   "source": [
    "#### Choose Normalization \n",
    "1. CPT + log1p normalization (DEFAULT)\n",
    "2. log1p normalization only (For unbinned sub-micron resolution data)"
   ]
  },
  {
   "cell_type": "code",
   "execution_count": null,
   "id": "48093aa1-1fd4-43c1-9058-a4b1fee0e5a0",
   "metadata": {},
   "outputs": [],
   "source": [
    "## CPT + Log1p normalization\n",
    "TARGET_SUM = 1e3\n",
    "sc.pp.normalize_total(adata, target_sum=TARGET_SUM)\n",
    "sc.pp.log1p(adata)\n",
    "adata.var['norm_total_counts'] = np.array(np.sum(adata.X, axis=0))[0]\n",
    "\n",
    "# ## Log1p normalization only (For unbinned sub-micron resolution data)\n",
    "# sc.pp.log1p(adata)\n",
    "# adata.var['norm_total_counts'] = np.array(np.sum(adata.X, axis=0))[0]"
   ]
  },
  {
   "cell_type": "markdown",
   "id": "3ad3cd7b-00c5-44b3-8333-30c7a10abacc",
   "metadata": {},
   "source": [
    "## Run Gaussian smoothing"
   ]
  },
  {
   "cell_type": "markdown",
   "id": "fe7ff9b7-d00f-4605-9aca-17675de96c8f",
   "metadata": {},
   "source": [
    "#### Notable Parameters:\n",
    "#### grid_based_or_not : bool\n",
    "- True = grid-based smoothing, smooth only at imposed hexagonal grid points, good for subcellular resolution data (0.5-2 micron).\n",
    "- False = in-place smoothing, smooth at every spatial location in the dataset, good for \"cell-sized\" resolution data (10-50 micron).\n",
    "\n",
    "#### gaussian_sd : float\n",
    "- Standard deviation for the Gaussian kernel. Carefully choose this variable based on S.T. data platform.\n",
    "- For Slide-seq, a value of 46.37 - 61.82 (30um - 40um) is appropriate.\n",
    "- For Stereo-seq sub-micron spots, a value of 40 - 60 (20um to 30um) is appropriate.\n",
    "- Generally across high-resolution S.T. platforms, the range 20-40um is likely ideal.\n",
    "- Note: Each S.T. data platform has a different conversion factor from their coordinate units to micrometers.\n",
    "\n",
    "#### min_spots_under_gaussian : int\n",
    "- Minimum number of data points within radius (3 * gaussian_sd) of center point for smoothing to occur at that location\n",
    "- (default is 25-100).\n",
    "\n",
    "#### stride : float, optional\n",
    "- Stride value for grid-based smoothing (default stride = 1 * gaussian_sd). \n",
    "- (0.5 * gaussian_sd is reasonable too for a denser grid).\n",
    "\n",
    "#### (Check src code for full parameter list).\n",
    "\n",
    "#### Returns:\n",
    "#### sm_adata : AnnData\n",
    "- The smoothed AnnData object."
   ]
  },
  {
   "cell_type": "code",
   "execution_count": null,
   "id": "831afd32-1228-4dbd-a67f-44209860ebd2",
   "metadata": {},
   "outputs": [],
   "source": [
    "## CHOOSE In-place smoothing OR Grid-based smoothing\n",
    "\n",
    "# In-place smoothing (Slide-seq 10um resolution default parameters)\n",
    "sm_adata = run_parallelized_smoothing(adata,\n",
    "                                      grid_based_or_not=False,\n",
    "                                      gaussian_sd=46.37, # ADJUST AS NEEDED (46.37 corresponds to 30 microns for Slide-seq)\n",
    "                                      min_spots_under_gaussian=25)\n",
    "\n",
    "# # Grid-based smoothing (Stereo-seq 0.5um resolution default parameters)\n",
    "# sm_adata = run_parallelized_smoothing(adata,\n",
    "#                                       grid_based_or_not=True,\n",
    "#                                       gaussian_sd=40, # ADJUST AS NEEDED (40 corresponds to 20 microns for Stereo-seq)\n",
    "#                                       min_spots_under_gaussian=100)"
   ]
  },
  {
   "cell_type": "markdown",
   "id": "79e38e97-b557-43a0-9c3b-57c8e04f5de0",
   "metadata": {},
   "source": [
    "## Run Smoothing on Shuffled Dataset"
   ]
  },
  {
   "cell_type": "markdown",
   "id": "21e85540-bc6f-4fdd-a75e-f52c84244591",
   "metadata": {},
   "source": [
    "Here we generate a spatially shuffled version of the adata to find the 95th, 99th, and 99.9th percentiles of the top Pearson correlation coefficients under the random null hypothesis. These cutoffs are used to select a PCC cutoff for network construction in the dataset."
   ]
  },
  {
   "cell_type": "code",
   "execution_count": null,
   "id": "38938515-425c-45ec-b28d-1de1fd7be76b",
   "metadata": {},
   "outputs": [],
   "source": [
    "## Create a shuffled version of adata\n",
    "\n",
    "# Shuffling of all coordinates (For 10-50 micron resolution data)\n",
    "sh_adata = adata.copy()\n",
    "np.random.seed(0)\n",
    "np.random.shuffle(sh_adata.obsm['spatial'])\n",
    "\n",
    "# # Bin-shuffling (For unbinned sub-micron resolution data)\n",
    "# sh_adata = adata.copy()\n",
    "# bin_shuffle_adata(sh_adata, bin_width=40, seed=0) # 40 corresponds to 20 micron width bins for Stereo-seq"
   ]
  },
  {
   "cell_type": "code",
   "execution_count": null,
   "id": "5e5fc205-3b89-4b88-9023-fa517933443f",
   "metadata": {},
   "outputs": [],
   "source": [
    "# Use identical smoothing parameters as you did on the true dataset\n",
    "\n",
    "# In-place smoothing (Slide-seq 10um resolution default parameters)\n",
    "sm_sh_adata = run_parallelized_smoothing(sh_adata,\n",
    "                                         grid_based_or_not=False,\n",
    "                                         gaussian_sd=46.37, # ADJUST AS NEEDED (46.37 corresponds to 30 microns for Slide-seq)\n",
    "                                         min_spots_under_gaussian=25)\n",
    "\n",
    "# # Grid-based smoothing (Stereo-seq 0.5um resolution default parameters)\n",
    "# sm_sh_adata = run_parallelized_smoothing(sh_adata,\n",
    "#                                          grid_based_or_not=True,\n",
    "#                                          gaussian_sd=40, # ADJUST AS NEEDED (40 corresponds to 20 microns for Stereo-seq)\n",
    "#                                          min_spots_under_gaussian=100)"
   ]
  },
  {
   "cell_type": "markdown",
   "id": "813115b0-ac8c-4b8f-a976-968b19437be4",
   "metadata": {},
   "source": [
    "## Calculate Pairwise Gene Correlation Matrix"
   ]
  },
  {
   "cell_type": "code",
   "execution_count": null,
   "id": "be270739-ce43-491b-b911-dda144c4a5cc",
   "metadata": {},
   "outputs": [],
   "source": [
    "# Pairwise PearsonR across all genes\n",
    "pearsonR_mat, p_val_mat = compute_correlation_matrix(sm_adata.X)\n",
    "\n",
    "# Pairwise PearsonR across all shuffled genes\n",
    "pearsonR_mat_sh, p_val_mat_sh = compute_correlation_matrix(sm_sh_adata.X)"
   ]
  },
  {
   "cell_type": "code",
   "execution_count": null,
   "id": "45143b88-0d84-4f16-87ea-c73f4738a3a6",
   "metadata": {},
   "outputs": [],
   "source": [
    "# Get the indices of the lower triangle of the matrix\n",
    "lower_tri_indices = np.tril_indices(pearsonR_mat.shape[0], -1)\n",
    "\n",
    "# True Data distribution\n",
    "true_lower_tri_values = pearsonR_mat[lower_tri_indices]\n",
    "print(f'95th PCC percentile for true data: {np.percentile(true_lower_tri_values, 95)}')\n",
    "print(f'99th PCC percentile for true data: {np.percentile(true_lower_tri_values, 99)}')\n",
    "print(f'99.9th PCC percentile for true data: {np.percentile(true_lower_tri_values, 99.9)}')\n",
    "\n",
    "# Shuffled Data distribution\n",
    "permuted_lower_tri_values = pearsonR_mat_sh[lower_tri_indices]\n",
    "print(f'95th PCC percentile for shuffled data: {np.percentile(permuted_lower_tri_values, 95)}')\n",
    "print(f'99th PCC percentile for shuffled data: {np.percentile(permuted_lower_tri_values, 99)}')\n",
    "print(f'99.9th PCC percentile for shuffled data: {np.percentile(permuted_lower_tri_values, 99.9)}')"
   ]
  },
  {
   "cell_type": "markdown",
   "id": "ddadf69a-b6c0-47fb-b4d1-b37c04ef0071",
   "metadata": {},
   "source": [
    "## Make Spatial Gene Correlation Network"
   ]
  },
  {
   "cell_type": "markdown",
   "id": "2adeba57-1759-4413-9893-0ac6edf4b02e",
   "metadata": {},
   "source": [
    "#### Notable Parameters:\n",
    "#### pcc_cutoff : float (in interval (0,1))\n",
    "- The Pearson correlation coefficient (PCC) hard threshold for network construction.\n",
    "- Only correlations above this value are retained in the network.\n",
    "- The pcc_cutoff should be higher than the upper 95th-99.9th percentile of pairwise PCC values generated from the smoothed spatially shuffled count matrix. (pcc_cutoff=0.4 (+/- 0.1) is usually an effective choice.)\n",
    "* Higher values result in smaller, stronger average correlation networks.\n",
    "* Lower values result in larger, weaker average correlation networks\n",
    "\n",
    "#### clustering_power : float (greater than 1)\n",
    "- A soft thresholding parameter that controls the rescaling of Pearson correlation values. Defaults to 4 if None.\n",
    "- Prior to soft thresholding, correlation values are linearly rescaled from interval (pcc_cutoff, 1) to (0,1).\n",
    "* Higher values result in more modular networks.\n",
    "\n",
    "#### gene_labels_list : list of list/tuple/np.ndarray, optional\n",
    "- A list containing gene set labels. Each item in the list should have the same length as the number of genes.\n",
    "- This is useful if you'd like to add gene information to the network for visualization.\n",
    "\n",
    "#### gene_labels_names : list, optional\n",
    "- A list of names, with each name corresponding to a gene set in `gene_labels_list`.\n",
    "\n",
    "#### (Check src code for full parameter list).\n",
    "\n",
    "#### Returns:\n",
    "#### edge_list : list\n",
    "- List of edges in the format [gene1, gene2, PCC, Rescaled_PCC].\n",
    "- May be imported as network into Cytoscape for visualization!\n",
    "\n",
    "#### node_label_df : pd.DataFrame\n",
    "- DataFrame with gene names, community labels, and various network metrics.\n",
    "- May be imported as node table into Cytoscape for visualization!"
   ]
  },
  {
   "cell_type": "code",
   "execution_count": null,
   "id": "7b765b4d-c1f2-4f53-8510-1e509e12479f",
   "metadata": {},
   "outputs": [],
   "source": [
    "edge_list, node_label_df = make_spatial_network(pearsonR_mat,\n",
    "                                                gene_names=sm_adata.var_names,\n",
    "                                                pcc_cutoff=0.4,\n",
    "                                                clustering_power=4,\n",
    "                                                gene_labels_list=None,\n",
    "                                                gene_labels_names=None,\n",
    "                                                output_folder=\"/location/of/save/folder\")"
   ]
  },
  {
   "cell_type": "markdown",
   "id": "1e5e92f5-4995-48e9-8880-1dcd8ff9c2db",
   "metadata": {},
   "source": [
    "## Find Top Correlations of a Gene of Interest"
   ]
  },
  {
   "cell_type": "code",
   "execution_count": null,
   "id": "b17470e8-3fd3-4c00-b0cd-144a809b5f56",
   "metadata": {},
   "outputs": [],
   "source": [
    "# Find top correlations or top anti-correlations to a gene of interest\n",
    "#  (full documentation in Smoothie/src/spatial_correlation.py)\n",
    "\n",
    "GOI_correlations = get_correlations_to_GOI(pearsonR_mat, \n",
    "                                           gene_names=sm_adata.var_names, \n",
    "                                           GOI=\"myGene1\", # choose gene\n",
    "                                           reverse_order=False)"
   ]
  },
  {
   "cell_type": "markdown",
   "id": "673ec6c9-dd34-47dc-a134-09dc451d6437",
   "metadata": {},
   "source": [
    "## Make Network for a Subset of Genes"
   ]
  },
  {
   "cell_type": "code",
   "execution_count": null,
   "id": "43ca8dbd-b08a-4739-9bf7-13a1c4b324dd",
   "metadata": {},
   "outputs": [],
   "source": [
    "# Construct a network for a gene set of interest (a targeted approach), \n",
    "# using a more permissive pcc cutoff for higher geneset member retention.\n",
    "#  (full documentation in Smoothie/src/network_analysis.py)\n",
    "\n",
    "myGeneList = ['gene1', 'gene2', 'gene3']\n",
    "\n",
    "geneset_edge_list, geneset_node_label_df = make_geneset_spatial_network(\n",
    "    pearsonR_mat,\n",
    "    gene_names=sm_adata.var_names,\n",
    "    node_label_df=node_label_df,\n",
    "    gene_list=myGeneList, # define how you'd like\n",
    "    low_pcc_cutoff=0.2, # choose low_pcc_cutoff <= pcc_cutoff (from above)\n",
    "    output_folder='/location/of/save/folder',\n",
    "    intra_geneset_edges_only=True, # exclude edges between geneset and non-geneset members?\n",
    ")"
   ]
  },
  {
   "cell_type": "markdown",
   "id": "c0ed71ee-797a-433a-9e2c-69be13000c2d",
   "metadata": {},
   "source": [
    "## Visualize Spatial Gene Plots"
   ]
  },
  {
   "cell_type": "code",
   "execution_count": null,
   "id": "28fd11d3-0628-4905-8a91-398a19dc437e",
   "metadata": {},
   "outputs": [],
   "source": [
    "# Plot a gene of interest \n",
    "#  (full documentation in Smoothie/src/plotting.py)\n",
    "\n",
    "plot_gene(sm_adata,\n",
    "          gene_name='MyGene1', # choose gene\n",
    "          output_folder='/location/of/save/folder', \n",
    "          spot_size=25) # adjust spot_size to find optimal plotting resolution"
   ]
  },
  {
   "cell_type": "code",
   "execution_count": null,
   "id": "92340cd8-9529-4b8f-8e82-488bb7a89f28",
   "metadata": {},
   "outputs": [],
   "source": [
    "# Plot all gene modules \n",
    "#  (full documentation in Smoothie/src/plotting.py)\n",
    "\n",
    "plot_modules(sm_adata, \n",
    "             node_label_df,\n",
    "             output_folder='/location/of/save/folder',  \n",
    "             plots_per_row=6, # number of module plots per plotting iteration\n",
    "             min_genes=3, # minimum number of genes in a module to plot the module (Use 2 or 3).\n",
    "             spot_size=25) # adjust spot_size to find optimal plotting resolution"
   ]
  }
 ],
 "metadata": {
  "kernelspec": {
   "display_name": "Python 3 (ipykernel)",
   "language": "python",
   "name": "python3"
  },
  "language_info": {
   "codemirror_mode": {
    "name": "ipython",
    "version": 3
   },
   "file_extension": ".py",
   "mimetype": "text/x-python",
   "name": "python",
   "nbconvert_exporter": "python",
   "pygments_lexer": "ipython3",
   "version": "3.10.12"
  }
 },
 "nbformat": 4,
 "nbformat_minor": 5
}
